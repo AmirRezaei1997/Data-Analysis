{
 "cells": [
  {
   "cell_type": "markdown",
   "metadata": {},
   "source": [
    "## Show on the map"
   ]
  },
  {
   "cell_type": "code",
   "execution_count": 15,
   "metadata": {
    "id": "q3SDwnEV3254"
   },
   "outputs": [],
   "source": [
    "import pandas as pd\n",
    "import matplotlib.pyplot as plt\n",
    "\n",
    "housing_extended = pd.read_csv('housing_extended.csv', encoding='gbk')"
   ]
  },
  {
   "cell_type": "code",
   "execution_count": 16,
   "metadata": {},
   "outputs": [],
   "source": [
    "housing_sample = housing_extended.iloc[:-100:100]\n",
    "housing_sample.shape"
   ]
  },
  {
   "cell_type": "code",
   "execution_count": 17,
   "metadata": {
    "colab": {
     "base_uri": "https://localhost:8080/",
     "height": 460
    },
    "id": "0Dzsw20f5DXr",
    "outputId": "1a447f9a-cd66-4ce6-eab5-a07dde3ee152"
   },
   "outputs": [],
   "source": [
    "fig1 , ax1 = plt.subplots()\n",
    "fig1.set_size_inches(10,7)\n",
    "\n",
    "housing_sample.plot(x = 'Lng' , y ='Lat' ,ax = ax1, kind = 'scatter', alpha = 0.2)\n",
    "ax1.axis('equal')\n",
    "ax1.set_title('scatter plot')"
   ]
  },
  {
   "cell_type": "code",
   "execution_count": 18,
   "metadata": {
    "colab": {
     "base_uri": "https://localhost:8080/",
     "height": 460
    },
    "id": "9q-xDawELrE9",
    "outputId": "191ee15d-8f62-4c64-8e71-2b9fb77b25d2"
   },
   "outputs": [],
   "source": [
    "fig2 , ax2 = plt.subplots()\n",
    "fig2.set_size_inches(10,7)\n",
    "\n",
    "housing_sample.plot(x = 'Lng' , y ='Lat' ,ax = ax2, kind = 'scatter',alpha = 0.4,\n",
    "                c = 'pricePerSquare', cmap=plt.get_cmap(\"jet\"),colorbar=True)\n",
    "\n",
    "ax2.axis('equal')"
   ]
  },
  {
   "cell_type": "code",
   "execution_count": 19,
   "metadata": {
    "colab": {
     "base_uri": "https://localhost:8080/",
     "height": 442
    },
    "id": "Oz3qA1_XNM7q",
    "outputId": "60f86a61-e308-4ccb-d0cd-bce87585680a"
   },
   "outputs": [],
   "source": [
    "from matplotlib.patches import ConnectionStyle\n",
    "connectionstyle = ConnectionStyle(\"Arc3\", rad=0.2)\n",
    "\n",
    "ax2.annotate(\"center of beijing\",xy=(116.40, 39.90), xytext=(116.6 , 39.65), arrowprops=dict(arrowstyle=\"fancy\",\n",
    "                            connectionstyle=connectionstyle)) \n",
    "fig2"
   ]
  },
  {
   "cell_type": "code",
   "execution_count": 20,
   "metadata": {},
   "outputs": [],
   "source": [
    "ax2.texts"
   ]
  },
  {
   "cell_type": "code",
   "execution_count": 21,
   "metadata": {
    "colab": {
     "base_uri": "https://localhost:8080/",
     "height": 460
    },
    "id": "febbzc9iWZ6n",
    "outputId": "a5b64aed-afa6-4903-d368-52484074b5e5"
   },
   "outputs": [],
   "source": [
    "fig3 , ax3 = plt.subplots()\n",
    "fig3.set_size_inches(10,7)\n",
    "\n",
    "housing_sample.plot(x = 'Lng' , y ='Lat' ,ax = ax3, kind = 'scatter', alpha = 0.2, s=housing_sample['distanceToCapital']*4)\n",
    "ax3.axis('equal')\n",
    "\n",
    "# plot Image"
   ]
  },
  {
   "cell_type": "code",
   "execution_count": 22,
   "metadata": {
    "colab": {
     "base_uri": "https://localhost:8080/",
     "height": 442
    },
    "id": "FjjgP60CY4Ny",
    "outputId": "113d82b0-377e-48cd-9b7c-131cf6eca526"
   },
   "outputs": [],
   "source": [
    "import matplotlib.image as mpimg\n",
    "\n",
    "beijing_img = mpimg.imread('map1.jpg')\n",
    "ax3.imshow(beijing_img, extent=[115.89777890444654, 116.90711309555346, 39.5957436, 40.2840444])\n",
    "fig3"
   ]
  },
  {
   "cell_type": "code",
   "execution_count": 23,
   "metadata": {
    "colab": {
     "base_uri": "https://localhost:8080/",
     "height": 460
    },
    "id": "u8uqH0YUYgmM",
    "outputId": "b6f042e5-7c0c-46e3-9baf-a99c0620a3c6"
   },
   "outputs": [],
   "source": [
    "fig4, ax4 =plt.subplots(figsize=(12.5,7))\n",
    "housing_sample.plot(x = 'Lng' , y ='Lat' ,ax = ax4, kind = 'scatter', alpha = 0.6, s=housing_sample['square']/20 ,c = 'district', cmap=plt.get_cmap(\"nipy_spectral\"),colorbar=True)\n",
    "ax4.axis('equal');\n"
   ]
  },
  {
   "cell_type": "code",
   "execution_count": 24,
   "metadata": {
    "colab": {
     "base_uri": "https://localhost:8080/",
     "height": 465
    },
    "id": "FGPpv4kxdBJl",
    "outputId": "c964c361-3d7b-4eb9-fc8c-904f8ac374e8"
   },
   "outputs": [],
   "source": [
    "fig5, ax5 = plt.subplots(figsize=(12.5,7))\n",
    "housing_sample.distanceToCapital>10\n",
    "housing_sample.distanceToCapital<30\n",
    "df2=housing_sample[(housing_sample.distanceToCapital>10) & (housing_sample.distanceToCapital<30)]\n",
    "df2.plot(x = 'Lng' , y ='Lat' ,ax = ax5, kind = 'scatter', alpha = 0.6, s=df2['square']/20 ,c = 'district', cmap=plt.get_cmap(\"nipy_spectral\"),colorbar=True)\n",
    "ax5.axis('equal');\n",
    "beijing_img = mpimg.imread('map2.jpg')\n",
    "ax5.imshow(beijing_img, extent=[116.08131705, 116.74133795, 39.652713150000004, 40.18048985])"
   ]
  }
 ],
 "metadata": {
  "colab": {
   "collapsed_sections": [],
   "name": "step4.ipynb",
   "provenance": []
  },
  "interpreter": {
   "hash": "243856ee5aa5cfcf7c7fc5e27ace1f0d0cf471c324fa5d741db742eb1bed0a33"
  },
  "kernelspec": {
   "display_name": "Python 3 (ipykernel)",
   "language": "python",
   "name": "python3"
  },
  "language_info": {
   "codemirror_mode": {
    "name": "ipython",
    "version": 3
   },
   "file_extension": ".py",
   "mimetype": "text/x-python",
   "name": "python",
   "nbconvert_exporter": "python",
   "pygments_lexer": "ipython3",
   "version": "3.8.8"
  }
 },
 "nbformat": 4,
 "nbformat_minor": 4
}
