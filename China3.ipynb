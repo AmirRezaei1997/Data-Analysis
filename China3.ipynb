{
 "cells": [
  {
   "cell_type": "markdown",
   "metadata": {},
   "source": [
    "## Add new features"
   ]
  },
  {
   "cell_type": "code",
   "execution_count": 2,
   "metadata": {
    "id": "0g-sHR5ImR30"
   },
   "outputs": [],
   "source": [
    "import pandas as pd\n",
    "import numpy as np\n",
    "import matplotlib.pyplot as plt\n",
    "import seaborn as sns\n",
    "\n",
    "housing_no_outlier = pd.read_csv('housing_no_outlier.csv', encoding='gbk')\n",
    "housing_no_outlier"
   ]
  },
  {
   "cell_type": "markdown",
   "metadata": {},
   "source": [
    "<p style=\"line-height:200%;font-family:vazir;font-size:medium\">\n",
    "<font face=\"vazir\" size=3>\n",
    "φ is latitude\n",
    "<br>\n",
    "λ is longitude\n",
    "<br>\n",
    "Distance = acos(sinφ1*sinφ2 + cosφ1*cosφ2 * cos(λ2-λ1)) * 6371.0088\n",
    "</font>\n",
    "</p>\n"
   ]
  },
  {
   "cell_type": "code",
   "execution_count": 4,
   "metadata": {
    "id": "kDJDaGg8mpbP"
   },
   "outputs": [],
   "source": [
    "from math import radians\n",
    "capital_Lng = radians(116.4074)\n",
    "capital_Lat = radians(39.9042)\n",
    "def cd(x):\n",
    "    return (np.arccos((np.sin(capital_Lat)*np.sin(radians(x.Lat))+np.cos(capital_Lat)*np.cos(radians(x.Lat))*np.cos(radians(x.Lng) - capital_Lng))))*6371.0088\n",
    "housing_capital = housing_no_outlier.copy()\n",
    "housing_capital['distanceToCapital'] =housing_capital.apply(cd ,axis=1)\n",
    "housing_capital\n"
   ]
  },
  {
   "cell_type": "code",
   "execution_count": 6,
   "metadata": {
    "id": "CnAs0TWGwRji"
   },
   "outputs": [],
   "source": [
    "housing_PPS = housing_capital.copy()\n",
    "def complex_function1(x):\n",
    "      return ((x.totalPrice)/(x.square))*1000\n",
    "housing_PPS['pricePerSquare'] = housing_PPS.apply(complex_function1 ,axis=1)\n",
    "housing_PPS"
   ]
  },
  {
   "cell_type": "code",
   "execution_count": 7,
   "metadata": {
    "colab": {
     "base_uri": "https://localhost:8080/",
     "height": 915
    },
    "id": "dCZp17E5xJ3O",
    "outputId": "43a5d762-e9c9-4de6-cb58-08230324ec44"
   },
   "outputs": [],
   "source": [
    "fig , ax = plt.subplots()\n",
    "fig.set_size_inches(15,15)\n",
    "housing_PPS.hist(ax = ax, bins = 20);"
   ]
  },
  {
   "cell_type": "code",
   "execution_count": 8,
   "metadata": {
    "colab": {
     "base_uri": "https://localhost:8080/",
     "height": 497
    },
    "id": "LNToqUrbxgRP",
    "outputId": "e09d99ff-4175-4800-8246-10c09e0f2eda"
   },
   "outputs": [],
   "source": [
    "fig , ax = plt.subplots()\n",
    "fig.set_size_inches(8,8)\n",
    "\n",
    "sns.regplot(ax = ax, data = housing_PPS, x = 'distanceToCapital', y = 'pricePerSquare', \n",
    "                   line_kws={'color':'red'}, scatter_kws= {'alpha': 0.1});"
   ]
  },
  {
   "cell_type": "code",
   "execution_count": 25,
   "metadata": {
    "colab": {
     "base_uri": "https://localhost:8080/",
     "height": 404
    },
    "id": "KELZT4208bUB",
    "outputId": "eb0dcbf0-09ca-4fc8-c186-25d498dbf29a"
   },
   "outputs": [],
   "source": [
    "fig, ax = plt.subplots(figsize=(6,6))\n",
    "df1=housing_PPS[housing_PPS.elevator=='no elevator']\n",
    "df=housing_PPS[housing_PPS.elevator=='has elevator']\n",
    "\n",
    "df.pricePerSquare.plot(kind = 'kde', ax = ax ,label='has elevator' )\n",
    "ax.legend()\n",
    "df1.pricePerSquare.plot(kind = 'kde', ax = ax ,label='no elevator' )\n",
    "ax.legend()\n",
    "ax.set_title('effect of elevator on price' ,color='red')\n",
    "ax.set_facecolor(\"#ffffcc\")\n",
    "ax.set_xlabel('pricePerSquare')\n",
    "fig.set_facecolor('khaki');"
   ]
  },
  {
   "cell_type": "code",
   "execution_count": 26,
   "metadata": {
    "id": "8PtPoP2v026f"
   },
   "outputs": [],
   "source": [
    "housing_PPS.to_csv('housing_extended.csv', encoding='gbk', index=False)"
   ]
  },
  {
   "cell_type": "code",
   "execution_count": null,
   "metadata": {},
   "outputs": [],
   "source": []
  }
 ],
 "metadata": {
  "colab": {
   "collapsed_sections": [],
   "name": "step3.ipynb",
   "provenance": []
  },
  "interpreter": {
   "hash": "243856ee5aa5cfcf7c7fc5e27ace1f0d0cf471c324fa5d741db742eb1bed0a33"
  },
  "kernelspec": {
   "display_name": "Python 3 (ipykernel)",
   "language": "python",
   "name": "python3"
  },
  "language_info": {
   "codemirror_mode": {
    "name": "ipython",
    "version": 3
   },
   "file_extension": ".py",
   "mimetype": "text/x-python",
   "name": "python",
   "nbconvert_exporter": "python",
   "pygments_lexer": "ipython3",
   "version": "3.8.8"
  }
 },
 "nbformat": 4,
 "nbformat_minor": 4
}
